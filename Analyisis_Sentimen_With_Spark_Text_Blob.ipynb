{
 "cells": [
  {
   "cell_type": "code",
   "execution_count": 1,
   "metadata": {},
   "outputs": [],
   "source": [
    "import pandas as pd\n",
    "import re\n",
    "from pyspark.sql import SparkSession\n",
    "from pyspark.sql.functions import *\n",
    "from pyspark.sql.types import *\n",
    "from pyspark.sql import functions as F\n",
    "from textblob import TextBlob\n",
    "import matplotlib.pyplot as plt"
   ]
  },
  {
   "cell_type": "code",
   "execution_count": 2,
   "metadata": {},
   "outputs": [],
   "source": [
    "spark = SparkSession.builder \\\n",
    "    .appName(\"Sentiment_Analysis\") \\\n",
    "    .getOrCreate()"
   ]
  },
  {
   "cell_type": "code",
   "execution_count": 3,
   "metadata": {},
   "outputs": [],
   "source": [
    "df = spark.read.load(\"./data/data_tweet_music.csv\",\n",
    "                     format=\"csv\", inferSchema=\"true\", header=\"true\")"
   ]
  },
  {
   "cell_type": "code",
   "execution_count": 4,
   "metadata": {},
   "outputs": [
    {
     "name": "stdout",
     "output_type": "stream",
     "text": [
      "+--------------------+--------------------+\n",
      "|                User|               Tweet|\n",
      "+--------------------+--------------------+\n",
      "|              pjs814|RT @Melissa048992...|\n",
      "|I’m listening to ...|                null|\n",
      "|         pjmmycatdog|RT @Marvicky24: B...|\n",
      "|   WITH YOU 💙 JIMIN|                null|\n",
      "|I’m listening to ...|                null|\n",
      "+--------------------+--------------------+\n",
      "only showing top 5 rows\n",
      "\n",
      "root\n",
      " |-- User: string (nullable = true)\n",
      " |-- Tweet: string (nullable = true)\n",
      "\n"
     ]
    }
   ],
   "source": [
    "df.show(5,True)\n",
    "df.printSchema()"
   ]
  },
  {
   "cell_type": "code",
   "execution_count": 5,
   "metadata": {},
   "outputs": [],
   "source": [
    "#data cleaning\n",
    "def preprocessing(lines):\n",
    "    words = lines.na.replace('', None)\n",
    "    words = words.na.drop()\n",
    "    words = words.withColumn('Tweet', F.regexp_replace('Tweet', r'http\\\\S+', ''))\n",
    "    words = words.withColumn('Tweet', F.regexp_replace('Tweet', '@\\\\w+', ''))\n",
    "    words = words.withColumn('Tweet', F.regexp_replace('Tweet', '#', ''))\n",
    "    words = words.withColumn('Tweet', F.regexp_replace('Tweet', 'RT', ''))\n",
    "    words = words.withColumn('Tweet', F.regexp_replace('Tweet', ':', ''))    \n",
    "    return words"
   ]
  },
  {
   "cell_type": "code",
   "execution_count": 6,
   "metadata": {},
   "outputs": [],
   "source": [
    "# text classification\n",
    "def polarity_detection(text):\n",
    "    return TextBlob(text).sentiment.polarity\n",
    "def subjectivity_detection(text):\n",
    "    return TextBlob(text).sentiment.subjectivity\n",
    "def text_classification(words):\n",
    "    # polarity detection\n",
    "    polarity_detection_udf = udf(polarity_detection, StringType())\n",
    "    words = words.withColumn(\"polarity\", polarity_detection_udf(\"Tweet\"))\n",
    "    # subjectivity detection\n",
    "    subjectivity_detection_udf = udf(subjectivity_detection, StringType())\n",
    "    words = words.withColumn(\"subjectivity\", subjectivity_detection_udf(\"Tweet\"))\n",
    "    return words"
   ]
  },
  {
   "cell_type": "code",
   "execution_count": 7,
   "metadata": {},
   "outputs": [],
   "source": [
    "words = preprocessing(df)\n",
    "words = text_classification(words)\n",
    "words = words.repartition(1)"
   ]
  },
  {
   "cell_type": "code",
   "execution_count": 8,
   "metadata": {},
   "outputs": [
    {
     "name": "stdout",
     "output_type": "stream",
     "text": [
      "+---------------+--------------------+--------------------+-------------------+\n",
      "|           User|               Tweet|            polarity|       subjectivity|\n",
      "+---------------+--------------------+--------------------+-------------------+\n",
      "|         pjs814|    BE GOOD BE LI...|                 0.7| 0.6000000000000001|\n",
      "|    pjmmycatdog|  BE GOOD BE LIKE...|                 0.7| 0.6000000000000001|\n",
      "| chejiminie5813|  Jimin's Twitter...|                 0.0|                0.0|\n",
      "|mlcTcdAX6jOfKC0|    My favorite B...|                0.25|               0.75|\n",
      "|    gortizpolly|  Jensen taking o...| 0.07499999999999998| 0.7250000000000001|\n",
      "|      MommyLouV|  ChickenNoodleSo...|                 0.0|                0.0|\n",
      "|      YxinBts13|    Forever in lo...|               0.375| 0.7250000000000001|\n",
      "|Korazon24698179|  We are trying/e...|                0.25| 0.5916666666666667|\n",
      "|      951013sea|     I’m listenin...|                0.25| 0.8500000000000001|\n",
      "|0s6nV4UuDikw11A|    I’m listening...|                0.25| 0.8500000000000001|\n",
      "| Just_JiMin1995|  BTSJIMIN JIMIN ...|                 0.0|                0.0|\n",
      "|RanjithRainaVfc|  Beast Tamil, Ra...|  0.1346153846153846| 0.4807692307692308|\n",
      "|Legoretwi211103|\"  Check out \"\" B...|              0.3125| 0.8500000000000001|\n",
      "|  taisantosarmy|  🗨️ GirlOfMyDre...|               0.625|                1.0|\n",
      "|  Satyamseth437|  Trending on 4th...|                 0.0|                0.0|\n",
      "|    myatnoe1310|  BE GOOD BE LIKE...|                 0.7| 0.6000000000000001|\n",
      "|Baalvee19468417|    I nominate Di...| 0.41666666666666663| 0.8333333333333333|\n",
      "|      wnmcradio|\"Now Playing, Let...|-0.07142857142857142|0.21428571428571427|\n",
      "|    akhilapvh11|  Trending 🔥🔥 a...|                 0.0|                0.0|\n",
      "|SouravM26050284|  Thanks to your ...|                0.35|                0.4|\n",
      "+---------------+--------------------+--------------------+-------------------+\n",
      "only showing top 20 rows\n",
      "\n"
     ]
    }
   ],
   "source": [
    "words.show()"
   ]
  },
  {
   "cell_type": "code",
   "execution_count": 9,
   "metadata": {},
   "outputs": [
    {
     "data": {
      "text/plain": [
       "pyspark.sql.dataframe.DataFrame"
      ]
     },
     "execution_count": 9,
     "metadata": {},
     "output_type": "execute_result"
    }
   ],
   "source": [
    "type(words)"
   ]
  },
  {
   "cell_type": "code",
   "execution_count": 10,
   "metadata": {},
   "outputs": [
    {
     "data": {
      "text/html": [
       "<div>\n",
       "<style scoped>\n",
       "    .dataframe tbody tr th:only-of-type {\n",
       "        vertical-align: middle;\n",
       "    }\n",
       "\n",
       "    .dataframe tbody tr th {\n",
       "        vertical-align: top;\n",
       "    }\n",
       "\n",
       "    .dataframe thead th {\n",
       "        text-align: right;\n",
       "    }\n",
       "</style>\n",
       "<table border=\"1\" class=\"dataframe\">\n",
       "  <thead>\n",
       "    <tr style=\"text-align: right;\">\n",
       "      <th></th>\n",
       "      <th>User</th>\n",
       "      <th>Tweet</th>\n",
       "      <th>polarity</th>\n",
       "      <th>subjectivity</th>\n",
       "    </tr>\n",
       "  </thead>\n",
       "  <tbody>\n",
       "    <tr>\n",
       "      <th>0</th>\n",
       "      <td>pjs814</td>\n",
       "      <td>BE GOOD BE LIKE JIMIN</td>\n",
       "      <td>0.7</td>\n",
       "      <td>0.6000000000000001</td>\n",
       "    </tr>\n",
       "    <tr>\n",
       "      <th>1</th>\n",
       "      <td>pjmmycatdog</td>\n",
       "      <td>BE GOOD BE LIKE JIMIN</td>\n",
       "      <td>0.7</td>\n",
       "      <td>0.6000000000000001</td>\n",
       "    </tr>\n",
       "    <tr>\n",
       "      <th>2</th>\n",
       "      <td>chejiminie5813</td>\n",
       "      <td>Jimin's Twitter Trends | Worldwide 🌎</td>\n",
       "      <td>0.0</td>\n",
       "      <td>0.0</td>\n",
       "    </tr>\n",
       "    <tr>\n",
       "      <th>3</th>\n",
       "      <td>mlcTcdAX6jOfKC0</td>\n",
       "      <td>My favorite Billboard trending song is def...</td>\n",
       "      <td>0.25</td>\n",
       "      <td>0.75</td>\n",
       "    </tr>\n",
       "    <tr>\n",
       "      <th>4</th>\n",
       "      <td>gortizpolly</td>\n",
       "      <td>Jensen taking over the trending topics true ...</td>\n",
       "      <td>0.07499999999999998</td>\n",
       "      <td>0.7250000000000001</td>\n",
       "    </tr>\n",
       "    <tr>\n",
       "      <th>...</th>\n",
       "      <td>...</td>\n",
       "      <td>...</td>\n",
       "      <td>...</td>\n",
       "      <td>...</td>\n",
       "    </tr>\n",
       "    <tr>\n",
       "      <th>10633</th>\n",
       "      <td>ZilBlondie</td>\n",
       "      <td>Guess who's trending again on CoinGecko 🦎</td>\n",
       "      <td>0.0</td>\n",
       "      <td>0.0</td>\n",
       "    </tr>\n",
       "    <tr>\n",
       "      <th>10634</th>\n",
       "      <td>Wecantgiveup7</td>\n",
       "      <td>I'm listening to BTS_Butter by BTS for My Tren...</td>\n",
       "      <td>0.0</td>\n",
       "      <td>0.0</td>\n",
       "    </tr>\n",
       "    <tr>\n",
       "      <th>10635</th>\n",
       "      <td>TxnTDGpqusufnrT</td>\n",
       "      <td>I’m listening to the hot trending song WithYou...</td>\n",
       "      <td>0.25</td>\n",
       "      <td>0.8500000000000001</td>\n",
       "    </tr>\n",
       "    <tr>\n",
       "      <th>10636</th>\n",
       "      <td>RADIO_CLN</td>\n",
       "      <td>Exile - Kiss You All Over on https//t.co/wiiiN...</td>\n",
       "      <td>0.0</td>\n",
       "      <td>0.0</td>\n",
       "    </tr>\n",
       "    <tr>\n",
       "      <th>10637</th>\n",
       "      <td>minikoooie7</td>\n",
       "      <td>BE GOOD BE LIKE JIMIN</td>\n",
       "      <td>0.7</td>\n",
       "      <td>0.6000000000000001</td>\n",
       "    </tr>\n",
       "  </tbody>\n",
       "</table>\n",
       "<p>10638 rows × 4 columns</p>\n",
       "</div>"
      ],
      "text/plain": [
       "                  User                                              Tweet  \\\n",
       "0               pjs814                              BE GOOD BE LIKE JIMIN   \n",
       "1          pjmmycatdog                              BE GOOD BE LIKE JIMIN   \n",
       "2       chejiminie5813              Jimin's Twitter Trends | Worldwide 🌎    \n",
       "3      mlcTcdAX6jOfKC0      My favorite Billboard trending song is def...   \n",
       "4          gortizpolly    Jensen taking over the trending topics true ...   \n",
       "...                ...                                                ...   \n",
       "10633       ZilBlondie          Guess who's trending again on CoinGecko 🦎   \n",
       "10634    Wecantgiveup7  I'm listening to BTS_Butter by BTS for My Tren...   \n",
       "10635  TxnTDGpqusufnrT  I’m listening to the hot trending song WithYou...   \n",
       "10636        RADIO_CLN  Exile - Kiss You All Over on https//t.co/wiiiN...   \n",
       "10637      minikoooie7                             BE GOOD BE LIKE JIMIN    \n",
       "\n",
       "                  polarity        subjectivity  \n",
       "0                      0.7  0.6000000000000001  \n",
       "1                      0.7  0.6000000000000001  \n",
       "2                      0.0                 0.0  \n",
       "3                     0.25                0.75  \n",
       "4      0.07499999999999998  0.7250000000000001  \n",
       "...                    ...                 ...  \n",
       "10633                  0.0                 0.0  \n",
       "10634                  0.0                 0.0  \n",
       "10635                 0.25  0.8500000000000001  \n",
       "10636                  0.0                 0.0  \n",
       "10637                  0.7  0.6000000000000001  \n",
       "\n",
       "[10638 rows x 4 columns]"
      ]
     },
     "execution_count": 10,
     "metadata": {},
     "output_type": "execute_result"
    }
   ],
   "source": [
    "words = words.toPandas()\n",
    "words"
   ]
  },
  {
   "cell_type": "code",
   "execution_count": 11,
   "metadata": {},
   "outputs": [
    {
     "data": {
      "text/plain": [
       "User            object\n",
       "Tweet           object\n",
       "polarity        object\n",
       "subjectivity    object\n",
       "dtype: object"
      ]
     },
     "execution_count": 11,
     "metadata": {},
     "output_type": "execute_result"
    }
   ],
   "source": [
    "words.dtypes"
   ]
  },
  {
   "cell_type": "code",
   "execution_count": 12,
   "metadata": {},
   "outputs": [],
   "source": [
    "words[[\"polarity\", \"subjectivity\"]] = words[[\"polarity\", \"subjectivity\"]].apply(pd.to_numeric)"
   ]
  },
  {
   "cell_type": "code",
   "execution_count": 13,
   "metadata": {},
   "outputs": [],
   "source": [
    "tweet_polarity=[]\n",
    "for i in words['polarity']:\n",
    "    if i > 0 :\n",
    "        i = 'Positive'\n",
    "        tweet_polarity.append(i)\n",
    "    else:\n",
    "        i = 'Negative'\n",
    "        tweet_polarity.append(i)"
   ]
  },
  {
   "cell_type": "code",
   "execution_count": 14,
   "metadata": {},
   "outputs": [
    {
     "data": {
      "text/html": [
       "<div>\n",
       "<style scoped>\n",
       "    .dataframe tbody tr th:only-of-type {\n",
       "        vertical-align: middle;\n",
       "    }\n",
       "\n",
       "    .dataframe tbody tr th {\n",
       "        vertical-align: top;\n",
       "    }\n",
       "\n",
       "    .dataframe thead th {\n",
       "        text-align: right;\n",
       "    }\n",
       "</style>\n",
       "<table border=\"1\" class=\"dataframe\">\n",
       "  <thead>\n",
       "    <tr style=\"text-align: right;\">\n",
       "      <th></th>\n",
       "      <th>User</th>\n",
       "      <th>Tweet</th>\n",
       "      <th>polarity</th>\n",
       "      <th>subjectivity</th>\n",
       "      <th>type_polarity</th>\n",
       "    </tr>\n",
       "  </thead>\n",
       "  <tbody>\n",
       "    <tr>\n",
       "      <th>0</th>\n",
       "      <td>pjs814</td>\n",
       "      <td>BE GOOD BE LIKE JIMIN</td>\n",
       "      <td>0.700</td>\n",
       "      <td>0.600</td>\n",
       "      <td>Positive</td>\n",
       "    </tr>\n",
       "    <tr>\n",
       "      <th>1</th>\n",
       "      <td>pjmmycatdog</td>\n",
       "      <td>BE GOOD BE LIKE JIMIN</td>\n",
       "      <td>0.700</td>\n",
       "      <td>0.600</td>\n",
       "      <td>Positive</td>\n",
       "    </tr>\n",
       "    <tr>\n",
       "      <th>2</th>\n",
       "      <td>chejiminie5813</td>\n",
       "      <td>Jimin's Twitter Trends | Worldwide 🌎</td>\n",
       "      <td>0.000</td>\n",
       "      <td>0.000</td>\n",
       "      <td>Negative</td>\n",
       "    </tr>\n",
       "    <tr>\n",
       "      <th>3</th>\n",
       "      <td>mlcTcdAX6jOfKC0</td>\n",
       "      <td>My favorite Billboard trending song is def...</td>\n",
       "      <td>0.250</td>\n",
       "      <td>0.750</td>\n",
       "      <td>Positive</td>\n",
       "    </tr>\n",
       "    <tr>\n",
       "      <th>4</th>\n",
       "      <td>gortizpolly</td>\n",
       "      <td>Jensen taking over the trending topics true ...</td>\n",
       "      <td>0.075</td>\n",
       "      <td>0.725</td>\n",
       "      <td>Positive</td>\n",
       "    </tr>\n",
       "    <tr>\n",
       "      <th>...</th>\n",
       "      <td>...</td>\n",
       "      <td>...</td>\n",
       "      <td>...</td>\n",
       "      <td>...</td>\n",
       "      <td>...</td>\n",
       "    </tr>\n",
       "    <tr>\n",
       "      <th>10633</th>\n",
       "      <td>ZilBlondie</td>\n",
       "      <td>Guess who's trending again on CoinGecko 🦎</td>\n",
       "      <td>0.000</td>\n",
       "      <td>0.000</td>\n",
       "      <td>Negative</td>\n",
       "    </tr>\n",
       "    <tr>\n",
       "      <th>10634</th>\n",
       "      <td>Wecantgiveup7</td>\n",
       "      <td>I'm listening to BTS_Butter by BTS for My Tren...</td>\n",
       "      <td>0.000</td>\n",
       "      <td>0.000</td>\n",
       "      <td>Negative</td>\n",
       "    </tr>\n",
       "    <tr>\n",
       "      <th>10635</th>\n",
       "      <td>TxnTDGpqusufnrT</td>\n",
       "      <td>I’m listening to the hot trending song WithYou...</td>\n",
       "      <td>0.250</td>\n",
       "      <td>0.850</td>\n",
       "      <td>Positive</td>\n",
       "    </tr>\n",
       "    <tr>\n",
       "      <th>10636</th>\n",
       "      <td>RADIO_CLN</td>\n",
       "      <td>Exile - Kiss You All Over on https//t.co/wiiiN...</td>\n",
       "      <td>0.000</td>\n",
       "      <td>0.000</td>\n",
       "      <td>Negative</td>\n",
       "    </tr>\n",
       "    <tr>\n",
       "      <th>10637</th>\n",
       "      <td>minikoooie7</td>\n",
       "      <td>BE GOOD BE LIKE JIMIN</td>\n",
       "      <td>0.700</td>\n",
       "      <td>0.600</td>\n",
       "      <td>Positive</td>\n",
       "    </tr>\n",
       "  </tbody>\n",
       "</table>\n",
       "<p>10638 rows × 5 columns</p>\n",
       "</div>"
      ],
      "text/plain": [
       "                  User                                              Tweet  \\\n",
       "0               pjs814                              BE GOOD BE LIKE JIMIN   \n",
       "1          pjmmycatdog                              BE GOOD BE LIKE JIMIN   \n",
       "2       chejiminie5813              Jimin's Twitter Trends | Worldwide 🌎    \n",
       "3      mlcTcdAX6jOfKC0      My favorite Billboard trending song is def...   \n",
       "4          gortizpolly    Jensen taking over the trending topics true ...   \n",
       "...                ...                                                ...   \n",
       "10633       ZilBlondie          Guess who's trending again on CoinGecko 🦎   \n",
       "10634    Wecantgiveup7  I'm listening to BTS_Butter by BTS for My Tren...   \n",
       "10635  TxnTDGpqusufnrT  I’m listening to the hot trending song WithYou...   \n",
       "10636        RADIO_CLN  Exile - Kiss You All Over on https//t.co/wiiiN...   \n",
       "10637      minikoooie7                             BE GOOD BE LIKE JIMIN    \n",
       "\n",
       "       polarity  subjectivity type_polarity  \n",
       "0         0.700         0.600      Positive  \n",
       "1         0.700         0.600      Positive  \n",
       "2         0.000         0.000      Negative  \n",
       "3         0.250         0.750      Positive  \n",
       "4         0.075         0.725      Positive  \n",
       "...         ...           ...           ...  \n",
       "10633     0.000         0.000      Negative  \n",
       "10634     0.000         0.000      Negative  \n",
       "10635     0.250         0.850      Positive  \n",
       "10636     0.000         0.000      Negative  \n",
       "10637     0.700         0.600      Positive  \n",
       "\n",
       "[10638 rows x 5 columns]"
      ]
     },
     "execution_count": 14,
     "metadata": {},
     "output_type": "execute_result"
    }
   ],
   "source": [
    "words['type_polarity'] = tweet_polarity\n",
    "words"
   ]
  },
  {
   "cell_type": "code",
   "execution_count": 22,
   "metadata": {},
   "outputs": [],
   "source": [
    "data_positive = words[words['type_polarity']=='Positive']['polarity'].count()"
   ]
  },
  {
   "cell_type": "code",
   "execution_count": 23,
   "metadata": {},
   "outputs": [],
   "source": [
    "data_negative = words[words['type_polarity']=='Negative']['polarity'].count()"
   ]
  },
  {
   "cell_type": "code",
   "execution_count": 32,
   "metadata": {},
   "outputs": [
    {
     "data": {
      "image/png": "[encoded data removed]",
      "text/plain": [
       "<Figure size 432x288 with 1 Axes>"
      ]
     },
     "metadata": {
      "needs_background": "light"
     },
     "output_type": "display_data"
    }
   ],
   "source": [
    "x = ['Negative','Positive']\n",
    "y = [data_negative,data_positive]\n",
    "left = [1,2]\n",
    "\n",
    "plt.bar(left,y, tick_label = x,\n",
    "        width = 0.3, color = ['red', 'green'])\n",
    "\n",
    "# naming the x axis\n",
    "plt.xlabel('Type Polarity')\n",
    "# naming the y axis\n",
    "plt.ylabel('Total each Polarity')\n",
    "  \n",
    "# giving a title to my graph\n",
    "plt.title('Polarity Graph')\n",
    "  \n",
    "# function to show the plot\n",
    "plt.show()"
   ]
  },
  {
   "cell_type": "code",
   "execution_count": 33,
   "metadata": {},
   "outputs": [],
   "source": [
    "spark.stop()"
   ]
  },
  {
   "cell_type": "code",
   "execution_count": null,
   "metadata": {},
   "outputs": [],
   "source": []
  }
 ],
 "metadata": {
  "kernelspec": {
   "display_name": "Python 3",
   "language": "python",
   "name": "python3"
  },
  "language_info": {
   "codemirror_mode": {
    "name": "ipython",
    "version": 3
   },
   "file_extension": ".py",
   "mimetype": "text/x-python",
   "name": "python",
   "nbconvert_exporter": "python",
   "pygments_lexer": "ipython3",
   "version": "3.8.7"
  }
 },
 "nbformat": 4,
 "nbformat_minor": 4
}
