{
 "cells": [
  {
   "cell_type": "code",
   "execution_count": 1,
   "metadata": {},
   "outputs": [],
   "source": [
    "import pandas as pd\n",
    "import re\n",
    "from pyspark.sql import SparkSession\n",
    "from pyspark.sql.functions import *\n",
    "from pyspark.sql.types import *\n",
    "from pyspark.sql import functions as F\n",
    "from textblob import TextBlob\n",
    "import matplotlib.pyplot as plt\n",
    "from nltk.corpus import stopwords"
   ]
  },
  {
   "cell_type": "code",
   "execution_count": 2,
   "metadata": {},
   "outputs": [
    {
     "data": {
      "text/html": [
       "<div>\n",
       "<style scoped>\n",
       "    .dataframe tbody tr th:only-of-type {\n",
       "        vertical-align: middle;\n",
       "    }\n",
       "\n",
       "    .dataframe tbody tr th {\n",
       "        vertical-align: top;\n",
       "    }\n",
       "\n",
       "    .dataframe thead th {\n",
       "        text-align: right;\n",
       "    }\n",
       "</style>\n",
       "<table border=\"1\" class=\"dataframe\">\n",
       "  <thead>\n",
       "    <tr style=\"text-align: right;\">\n",
       "      <th></th>\n",
       "      <th>User</th>\n",
       "      <th>Tweet</th>\n",
       "    </tr>\n",
       "  </thead>\n",
       "  <tbody>\n",
       "    <tr>\n",
       "      <th>0</th>\n",
       "      <td>pjs814</td>\n",
       "      <td>RT @Melissa04899261: @Jiminlove3000 @BTS_twt B...</td>\n",
       "    </tr>\n",
       "    <tr>\n",
       "      <th>1</th>\n",
       "      <td>pjmmycatdog</td>\n",
       "      <td>RT @Marvicky24: BE GOOD BE LIKE JIMIN\\nWITH YO...</td>\n",
       "    </tr>\n",
       "    <tr>\n",
       "      <th>2</th>\n",
       "      <td>chejiminie5813</td>\n",
       "      <td>RT @PJM_data: Jimin's Twitter Trends | Worldwi...</td>\n",
       "    </tr>\n",
       "    <tr>\n",
       "      <th>3</th>\n",
       "      <td>mlcTcdAX6jOfKC0</td>\n",
       "      <td>RT @PJMsMINI13: @charming1023 @BTS_twt My favo...</td>\n",
       "    </tr>\n",
       "    <tr>\n",
       "      <th>4</th>\n",
       "      <td>gortizpolly</td>\n",
       "      <td>RT @DeansMyHero: Jensen taking over the trendi...</td>\n",
       "    </tr>\n",
       "  </tbody>\n",
       "</table>\n",
       "</div>"
      ],
      "text/plain": [
       "              User                                              Tweet\n",
       "0           pjs814  RT @Melissa04899261: @Jiminlove3000 @BTS_twt B...\n",
       "1      pjmmycatdog  RT @Marvicky24: BE GOOD BE LIKE JIMIN\\nWITH YO...\n",
       "2   chejiminie5813  RT @PJM_data: Jimin's Twitter Trends | Worldwi...\n",
       "3  mlcTcdAX6jOfKC0  RT @PJMsMINI13: @charming1023 @BTS_twt My favo...\n",
       "4      gortizpolly  RT @DeansMyHero: Jensen taking over the trendi..."
      ]
     },
     "execution_count": 2,
     "metadata": {},
     "output_type": "execute_result"
    }
   ],
   "source": [
    "#Read The Data Tweet CSV\n",
    "df = pd.read_csv(\"./data/data_tweet_music.csv\")\n",
    "df.head()"
   ]
  },
  {
   "cell_type": "code",
   "execution_count": 7,
   "metadata": {},
   "outputs": [],
   "source": [
    "#funciton to remove stop words\n",
    "def remove_stopwords(lines):\n",
    "    words = TextBlob(lines)\n",
    "    tokens = set(words.words)\n",
    "    stop = set(stopwords.words(\"english\"))\n",
    "    return tokens-stop"
   ]
  },
  {
   "cell_type": "code",
   "execution_count": 8,
   "metadata": {},
   "outputs": [],
   "source": [
    "df['Tweet']= df['Tweet'].apply(remove_stopwords) # Apply remove stopwords to dataframe with coloumn Tweet\n",
    "df.to_csv('data_tweet_remove_stopwords.csv') # make csv data that have data without stopwords "
   ]
  },
  {
   "cell_type": "code",
   "execution_count": 2,
   "metadata": {},
   "outputs": [],
   "source": [
    "#make spark session\n",
    "spark = SparkSession.builder \\\n",
    "    .appName(\"Sentiment_Analysis\") \\\n",
    "    .getOrCreate()"
   ]
  },
  {
   "cell_type": "code",
   "execution_count": 3,
   "metadata": {},
   "outputs": [],
   "source": [
    "df = spark.read.load(\"./data/data_tweet_remove_stopwords.csv\",\n",
    "                     format=\"csv\", inferSchema=\"true\", header=\"true\")"
   ]
  },
  {
   "cell_type": "code",
   "execution_count": 4,
   "metadata": {},
   "outputs": [
    {
     "name": "stdout",
     "output_type": "stream",
     "text": [
      "+---+---------------+--------------------+\n",
      "|_c0|           User|               Tweet|\n",
      "+---+---------------+--------------------+\n",
      "|  0|         pjs814|{'2022', 'trendin...|\n",
      "|  1|    pjmmycatdog|{'OST', 'JIMIN', ...|\n",
      "|  2| chejiminie5813|\"{'share', 'Jimin...|\n",
      "|  3|mlcTcdAX6jOfKC0|{'trending', 'cha...|\n",
      "|  4|    gortizpolly|{'trending', 'top...|\n",
      "+---+---------------+--------------------+\n",
      "only showing top 5 rows\n",
      "\n",
      "root\n",
      " |-- _c0: integer (nullable = true)\n",
      " |-- User: string (nullable = true)\n",
      " |-- Tweet: string (nullable = true)\n",
      "\n"
     ]
    }
   ],
   "source": [
    "df.show(5,True)\n",
    "df.printSchema()"
   ]
  },
  {
   "cell_type": "code",
   "execution_count": 5,
   "metadata": {},
   "outputs": [],
   "source": [
    "#data cleaning\n",
    "def preprocessing(lines):\n",
    "    words = lines.na.replace('', None)\n",
    "    words = words.na.drop()\n",
    "    words = words.withColumn('Tweet', F.regexp_replace('Tweet', r'http\\\\S+', ''))\n",
    "    words = words.withColumn('Tweet', F.regexp_replace('Tweet', '@\\\\w+', ''))\n",
    "    words = words.withColumn('Tweet', F.regexp_replace('Tweet', '#', ''))\n",
    "    words = words.withColumn('Tweet', F.regexp_replace('Tweet', 'RT', ''))\n",
    "    words = words.withColumn('Tweet', F.regexp_replace('Tweet', ':', ''))\n",
    "    return words"
   ]
  },
  {
   "cell_type": "code",
   "execution_count": 6,
   "metadata": {},
   "outputs": [],
   "source": [
    "# text classification\n",
    "def polarity_detection(text):\n",
    "    return TextBlob(text).sentiment.polarity\n",
    "def subjectivity_detection(text):\n",
    "    return TextBlob(text).sentiment.subjectivity\n",
    "def text_classification(words):\n",
    "    # polarity detection\n",
    "    polarity_detection_udf = udf(polarity_detection, StringType())\n",
    "    words = words.withColumn(\"polarity\", polarity_detection_udf(\"Tweet\"))\n",
    "    # subjectivity detection\n",
    "    subjectivity_detection_udf = udf(subjectivity_detection, StringType())\n",
    "    words = words.withColumn(\"subjectivity\", subjectivity_detection_udf(\"Tweet\"))\n",
    "    return words"
   ]
  },
  {
   "cell_type": "code",
   "execution_count": 7,
   "metadata": {},
   "outputs": [],
   "source": [
    "words = preprocessing(df)\n",
    "words = text_classification(words)\n",
    "words = words.repartition(1)"
   ]
  },
  {
   "cell_type": "code",
   "execution_count": 8,
   "metadata": {},
   "outputs": [
    {
     "name": "stdout",
     "output_type": "stream",
     "text": [
      "+---+---------------+--------------------+--------------------+-------------------+\n",
      "|_c0|           User|               Tweet|            polarity|       subjectivity|\n",
      "+---+---------------+--------------------+--------------------+-------------------+\n",
      "|  0|         pjs814|{'2022', 'trendin...|               0.475| 0.7250000000000001|\n",
      "|  1|    pjmmycatdog|{'OST', 'JIMIN', ...|               0.475| 0.7250000000000001|\n",
      "|  2| chejiminie5813|\"{'share', 'Jimin...|                 0.7| 0.6000000000000001|\n",
      "|  3|mlcTcdAX6jOfKC0|{'trending', 'cha...|                0.25|               0.75|\n",
      "|  4|    gortizpolly|{'trending', 'top...| 0.07499999999999998| 0.7250000000000001|\n",
      "|  5|      MommyLouV|{'trending', 'Son...|                 0.0|                0.0|\n",
      "|  6|      YxinBts13|{'2022', 'trendin...|               0.375| 0.7250000000000001|\n",
      "|  7|Korazon24698179|\"{'trying/experim...|                0.25| 0.5916666666666667|\n",
      "|  8|      951013sea|{'trending', '’',...|                0.25| 0.8500000000000001|\n",
      "|  9|0s6nV4UuDikw11A|{'jmjkthsgrm', 't...|                0.25| 0.8500000000000001|\n",
      "| 10| Just_JiMin1995|{'2022', 'trendin...|               0.375| 0.7250000000000001|\n",
      "| 11|RanjithRainaVfc|{'trending', '3',...|  0.1346153846153846| 0.4807692307692308|\n",
      "| 12|Legoretwi211103|\"{'Powered', 'Tre...|                0.25| 0.5916666666666667|\n",
      "| 13|  taisantosarmy|{'trending', 'Agu...|                 0.5|                1.0|\n",
      "| 14|  Satyamseth437|\"{'trending', 'Tw...|                 0.0|                0.0|\n",
      "| 15|    myatnoe1310|\"{'trending', 'ho...|               0.475| 0.7250000000000001|\n",
      "| 16|Baalvee19468417|{'ItsDivyology', ...| 0.41666666666666663| 0.8333333333333333|\n",
      "| 17|      wnmcradio|\"{'Grandma', 'Of'...|-0.07142857142857142|0.21428571428571427|\n",
      "| 18|    akhilapvh11|\"{'1st', 'Trendin...|                 0.0|                0.0|\n",
      "| 19|SouravM26050284|{'trending', 'sid...|                0.35|                0.4|\n",
      "+---+---------------+--------------------+--------------------+-------------------+\n",
      "only showing top 20 rows\n",
      "\n"
     ]
    }
   ],
   "source": [
    "words.show()"
   ]
  },
  {
   "cell_type": "code",
   "execution_count": 9,
   "metadata": {},
   "outputs": [
    {
     "data": {
      "text/plain": [
       "pyspark.sql.dataframe.DataFrame"
      ]
     },
     "execution_count": 9,
     "metadata": {},
     "output_type": "execute_result"
    }
   ],
   "source": [
    "type(words)"
   ]
  },
  {
   "cell_type": "code",
   "execution_count": 10,
   "metadata": {},
   "outputs": [
    {
     "data": {
      "text/html": [
       "<div>\n",
       "<style scoped>\n",
       "    .dataframe tbody tr th:only-of-type {\n",
       "        vertical-align: middle;\n",
       "    }\n",
       "\n",
       "    .dataframe tbody tr th {\n",
       "        vertical-align: top;\n",
       "    }\n",
       "\n",
       "    .dataframe thead th {\n",
       "        text-align: right;\n",
       "    }\n",
       "</style>\n",
       "<table border=\"1\" class=\"dataframe\">\n",
       "  <thead>\n",
       "    <tr style=\"text-align: right;\">\n",
       "      <th></th>\n",
       "      <th>_c0</th>\n",
       "      <th>User</th>\n",
       "      <th>Tweet</th>\n",
       "      <th>polarity</th>\n",
       "      <th>subjectivity</th>\n",
       "    </tr>\n",
       "  </thead>\n",
       "  <tbody>\n",
       "    <tr>\n",
       "      <th>0</th>\n",
       "      <td>0</td>\n",
       "      <td>pjs814</td>\n",
       "      <td>{'2022', 'trending', '’', 'hot', 'GOOD', 'LIKE...</td>\n",
       "      <td>0.475</td>\n",
       "      <td>0.7250000000000001</td>\n",
       "    </tr>\n",
       "    <tr>\n",
       "      <th>1</th>\n",
       "      <td>1</td>\n",
       "      <td>pjmmycatdog</td>\n",
       "      <td>{'OST', 'JIMIN', 'BTSJIMIN', 'hot', '', 'BTS',...</td>\n",
       "      <td>0.475</td>\n",
       "      <td>0.7250000000000001</td>\n",
       "    </tr>\n",
       "    <tr>\n",
       "      <th>2</th>\n",
       "      <td>2</td>\n",
       "      <td>chejiminie5813</td>\n",
       "      <td>\"{'share', 'Jimin', 'Worldwide', 'trending', '...</td>\n",
       "      <td>0.7</td>\n",
       "      <td>0.6000000000000001</td>\n",
       "    </tr>\n",
       "    <tr>\n",
       "      <th>3</th>\n",
       "      <td>3</td>\n",
       "      <td>mlcTcdAX6jOfKC0</td>\n",
       "      <td>{'trending', 'charming1023', 'favorite', 'song...</td>\n",
       "      <td>0.25</td>\n",
       "      <td>0.75</td>\n",
       "    </tr>\n",
       "    <tr>\n",
       "      <th>4</th>\n",
       "      <td>4</td>\n",
       "      <td>gortizpolly</td>\n",
       "      <td>{'trending', 'topics', 't.co/mmlsSwyAQ6', '', ...</td>\n",
       "      <td>0.07499999999999998</td>\n",
       "      <td>0.7250000000000001</td>\n",
       "    </tr>\n",
       "    <tr>\n",
       "      <th>...</th>\n",
       "      <td>...</td>\n",
       "      <td>...</td>\n",
       "      <td>...</td>\n",
       "      <td>...</td>\n",
       "      <td>...</td>\n",
       "    </tr>\n",
       "    <tr>\n",
       "      <th>9995</th>\n",
       "      <td>9995</td>\n",
       "      <td>ZilBlondie</td>\n",
       "      <td>\"{'trending', \"\"'s\"\"</td>\n",
       "      <td>0.0</td>\n",
       "      <td>0.0</td>\n",
       "    </tr>\n",
       "    <tr>\n",
       "      <th>9996</th>\n",
       "      <td>9996</td>\n",
       "      <td>Wecantgiveup7</td>\n",
       "      <td>\"{'Song', 'Choice', 'Trending', 'BTS', \"\"'m\"\"</td>\n",
       "      <td>0.0</td>\n",
       "      <td>0.0</td>\n",
       "    </tr>\n",
       "    <tr>\n",
       "      <th>9997</th>\n",
       "      <td>9997</td>\n",
       "      <td>TxnTDGpqusufnrT</td>\n",
       "      <td>{'trending', '’', 'hot', 'WithYou', 'BTS', 'OS...</td>\n",
       "      <td>0.25</td>\n",
       "      <td>0.8500000000000001</td>\n",
       "    </tr>\n",
       "    <tr>\n",
       "      <th>9998</th>\n",
       "      <td>9998</td>\n",
       "      <td>RADIO_CLN</td>\n",
       "      <td>{'App', 'PopRock', 'app', 't.co/qNMaPnkBCo', '...</td>\n",
       "      <td>0.0</td>\n",
       "      <td>0.0</td>\n",
       "    </tr>\n",
       "    <tr>\n",
       "      <th>9999</th>\n",
       "      <td>9999</td>\n",
       "      <td>minikoooie7</td>\n",
       "      <td>{'JIMIN', 'hot', 'SolecitoPjm', '', 'song', 'I...</td>\n",
       "      <td>0.48333333333333334</td>\n",
       "      <td>0.6833333333333335</td>\n",
       "    </tr>\n",
       "  </tbody>\n",
       "</table>\n",
       "<p>10000 rows × 5 columns</p>\n",
       "</div>"
      ],
      "text/plain": [
       "       _c0             User  \\\n",
       "0        0           pjs814   \n",
       "1        1      pjmmycatdog   \n",
       "2        2   chejiminie5813   \n",
       "3        3  mlcTcdAX6jOfKC0   \n",
       "4        4      gortizpolly   \n",
       "...    ...              ...   \n",
       "9995  9995       ZilBlondie   \n",
       "9996  9996    Wecantgiveup7   \n",
       "9997  9997  TxnTDGpqusufnrT   \n",
       "9998  9998        RADIO_CLN   \n",
       "9999  9999      minikoooie7   \n",
       "\n",
       "                                                  Tweet             polarity  \\\n",
       "0     {'2022', 'trending', '’', 'hot', 'GOOD', 'LIKE...                0.475   \n",
       "1     {'OST', 'JIMIN', 'BTSJIMIN', 'hot', '', 'BTS',...                0.475   \n",
       "2     \"{'share', 'Jimin', 'Worldwide', 'trending', '...                  0.7   \n",
       "3     {'trending', 'charming1023', 'favorite', 'song...                 0.25   \n",
       "4     {'trending', 'topics', 't.co/mmlsSwyAQ6', '', ...  0.07499999999999998   \n",
       "...                                                 ...                  ...   \n",
       "9995                               \"{'trending', \"\"'s\"\"                  0.0   \n",
       "9996      \"{'Song', 'Choice', 'Trending', 'BTS', \"\"'m\"\"                  0.0   \n",
       "9997  {'trending', '’', 'hot', 'WithYou', 'BTS', 'OS...                 0.25   \n",
       "9998  {'App', 'PopRock', 'app', 't.co/qNMaPnkBCo', '...                  0.0   \n",
       "9999  {'JIMIN', 'hot', 'SolecitoPjm', '', 'song', 'I...  0.48333333333333334   \n",
       "\n",
       "            subjectivity  \n",
       "0     0.7250000000000001  \n",
       "1     0.7250000000000001  \n",
       "2     0.6000000000000001  \n",
       "3                   0.75  \n",
       "4     0.7250000000000001  \n",
       "...                  ...  \n",
       "9995                 0.0  \n",
       "9996                 0.0  \n",
       "9997  0.8500000000000001  \n",
       "9998                 0.0  \n",
       "9999  0.6833333333333335  \n",
       "\n",
       "[10000 rows x 5 columns]"
      ]
     },
     "execution_count": 10,
     "metadata": {},
     "output_type": "execute_result"
    }
   ],
   "source": [
    "words = words.toPandas()\n",
    "words"
   ]
  },
  {
   "cell_type": "code",
   "execution_count": 11,
   "metadata": {},
   "outputs": [
    {
     "data": {
      "text/plain": [
       "_c0              int32\n",
       "User            object\n",
       "Tweet           object\n",
       "polarity        object\n",
       "subjectivity    object\n",
       "dtype: object"
      ]
     },
     "execution_count": 11,
     "metadata": {},
     "output_type": "execute_result"
    }
   ],
   "source": [
    "words.dtypes"
   ]
  },
  {
   "cell_type": "code",
   "execution_count": 12,
   "metadata": {},
   "outputs": [],
   "source": [
    "words[[\"polarity\", \"subjectivity\"]] = words[[\"polarity\", \"subjectivity\"]].apply(pd.to_numeric)"
   ]
  },
  {
   "cell_type": "code",
   "execution_count": 13,
   "metadata": {},
   "outputs": [
    {
     "data": {
      "text/plain": [
       "0.14650838284169534"
      ]
     },
     "execution_count": 13,
     "metadata": {},
     "output_type": "execute_result"
    }
   ],
   "source": [
    "# mencari rata-rata nilai polarity\n",
    "mean_polarity = words['polarity'].mean()\n",
    "mean_polarity"
   ]
  },
  {
   "cell_type": "code",
   "execution_count": 14,
   "metadata": {},
   "outputs": [],
   "source": [
    "tweet_polarity=[]\n",
    "for i in words['polarity']:\n",
    "    if i > 0 :\n",
    "        i = 'Positive'\n",
    "        tweet_polarity.append(i)\n",
    "    elif i < 0:\n",
    "        i ='Negative'\n",
    "        tweet_polarity.append(i)\n",
    "    else:\n",
    "        i = 'Neutral'\n",
    "        tweet_polarity.append(i)"
   ]
  },
  {
   "cell_type": "code",
   "execution_count": 15,
   "metadata": {},
   "outputs": [
    {
     "data": {
      "text/html": [
       "<div>\n",
       "<style scoped>\n",
       "    .dataframe tbody tr th:only-of-type {\n",
       "        vertical-align: middle;\n",
       "    }\n",
       "\n",
       "    .dataframe tbody tr th {\n",
       "        vertical-align: top;\n",
       "    }\n",
       "\n",
       "    .dataframe thead th {\n",
       "        text-align: right;\n",
       "    }\n",
       "</style>\n",
       "<table border=\"1\" class=\"dataframe\">\n",
       "  <thead>\n",
       "    <tr style=\"text-align: right;\">\n",
       "      <th></th>\n",
       "      <th>_c0</th>\n",
       "      <th>User</th>\n",
       "      <th>Tweet</th>\n",
       "      <th>polarity</th>\n",
       "      <th>subjectivity</th>\n",
       "      <th>type_polarity</th>\n",
       "    </tr>\n",
       "  </thead>\n",
       "  <tbody>\n",
       "    <tr>\n",
       "      <th>0</th>\n",
       "      <td>0</td>\n",
       "      <td>pjs814</td>\n",
       "      <td>{'2022', 'trending', '’', 'hot', 'GOOD', 'LIKE...</td>\n",
       "      <td>0.475000</td>\n",
       "      <td>0.725000</td>\n",
       "      <td>Positive</td>\n",
       "    </tr>\n",
       "    <tr>\n",
       "      <th>1</th>\n",
       "      <td>1</td>\n",
       "      <td>pjmmycatdog</td>\n",
       "      <td>{'OST', 'JIMIN', 'BTSJIMIN', 'hot', '', 'BTS',...</td>\n",
       "      <td>0.475000</td>\n",
       "      <td>0.725000</td>\n",
       "      <td>Positive</td>\n",
       "    </tr>\n",
       "    <tr>\n",
       "      <th>2</th>\n",
       "      <td>2</td>\n",
       "      <td>chejiminie5813</td>\n",
       "      <td>\"{'share', 'Jimin', 'Worldwide', 'trending', '...</td>\n",
       "      <td>0.700000</td>\n",
       "      <td>0.600000</td>\n",
       "      <td>Positive</td>\n",
       "    </tr>\n",
       "    <tr>\n",
       "      <th>3</th>\n",
       "      <td>3</td>\n",
       "      <td>mlcTcdAX6jOfKC0</td>\n",
       "      <td>{'trending', 'charming1023', 'favorite', 'song...</td>\n",
       "      <td>0.250000</td>\n",
       "      <td>0.750000</td>\n",
       "      <td>Positive</td>\n",
       "    </tr>\n",
       "    <tr>\n",
       "      <th>4</th>\n",
       "      <td>4</td>\n",
       "      <td>gortizpolly</td>\n",
       "      <td>{'trending', 'topics', 't.co/mmlsSwyAQ6', '', ...</td>\n",
       "      <td>0.075000</td>\n",
       "      <td>0.725000</td>\n",
       "      <td>Positive</td>\n",
       "    </tr>\n",
       "    <tr>\n",
       "      <th>...</th>\n",
       "      <td>...</td>\n",
       "      <td>...</td>\n",
       "      <td>...</td>\n",
       "      <td>...</td>\n",
       "      <td>...</td>\n",
       "      <td>...</td>\n",
       "    </tr>\n",
       "    <tr>\n",
       "      <th>9995</th>\n",
       "      <td>9995</td>\n",
       "      <td>ZilBlondie</td>\n",
       "      <td>\"{'trending', \"\"'s\"\"</td>\n",
       "      <td>0.000000</td>\n",
       "      <td>0.000000</td>\n",
       "      <td>Neutral</td>\n",
       "    </tr>\n",
       "    <tr>\n",
       "      <th>9996</th>\n",
       "      <td>9996</td>\n",
       "      <td>Wecantgiveup7</td>\n",
       "      <td>\"{'Song', 'Choice', 'Trending', 'BTS', \"\"'m\"\"</td>\n",
       "      <td>0.000000</td>\n",
       "      <td>0.000000</td>\n",
       "      <td>Neutral</td>\n",
       "    </tr>\n",
       "    <tr>\n",
       "      <th>9997</th>\n",
       "      <td>9997</td>\n",
       "      <td>TxnTDGpqusufnrT</td>\n",
       "      <td>{'trending', '’', 'hot', 'WithYou', 'BTS', 'OS...</td>\n",
       "      <td>0.250000</td>\n",
       "      <td>0.850000</td>\n",
       "      <td>Positive</td>\n",
       "    </tr>\n",
       "    <tr>\n",
       "      <th>9998</th>\n",
       "      <td>9998</td>\n",
       "      <td>RADIO_CLN</td>\n",
       "      <td>{'App', 'PopRock', 'app', 't.co/qNMaPnkBCo', '...</td>\n",
       "      <td>0.000000</td>\n",
       "      <td>0.000000</td>\n",
       "      <td>Neutral</td>\n",
       "    </tr>\n",
       "    <tr>\n",
       "      <th>9999</th>\n",
       "      <td>9999</td>\n",
       "      <td>minikoooie7</td>\n",
       "      <td>{'JIMIN', 'hot', 'SolecitoPjm', '', 'song', 'I...</td>\n",
       "      <td>0.483333</td>\n",
       "      <td>0.683333</td>\n",
       "      <td>Positive</td>\n",
       "    </tr>\n",
       "  </tbody>\n",
       "</table>\n",
       "<p>10000 rows × 6 columns</p>\n",
       "</div>"
      ],
      "text/plain": [
       "       _c0             User  \\\n",
       "0        0           pjs814   \n",
       "1        1      pjmmycatdog   \n",
       "2        2   chejiminie5813   \n",
       "3        3  mlcTcdAX6jOfKC0   \n",
       "4        4      gortizpolly   \n",
       "...    ...              ...   \n",
       "9995  9995       ZilBlondie   \n",
       "9996  9996    Wecantgiveup7   \n",
       "9997  9997  TxnTDGpqusufnrT   \n",
       "9998  9998        RADIO_CLN   \n",
       "9999  9999      minikoooie7   \n",
       "\n",
       "                                                  Tweet  polarity  \\\n",
       "0     {'2022', 'trending', '’', 'hot', 'GOOD', 'LIKE...  0.475000   \n",
       "1     {'OST', 'JIMIN', 'BTSJIMIN', 'hot', '', 'BTS',...  0.475000   \n",
       "2     \"{'share', 'Jimin', 'Worldwide', 'trending', '...  0.700000   \n",
       "3     {'trending', 'charming1023', 'favorite', 'song...  0.250000   \n",
       "4     {'trending', 'topics', 't.co/mmlsSwyAQ6', '', ...  0.075000   \n",
       "...                                                 ...       ...   \n",
       "9995                               \"{'trending', \"\"'s\"\"  0.000000   \n",
       "9996      \"{'Song', 'Choice', 'Trending', 'BTS', \"\"'m\"\"  0.000000   \n",
       "9997  {'trending', '’', 'hot', 'WithYou', 'BTS', 'OS...  0.250000   \n",
       "9998  {'App', 'PopRock', 'app', 't.co/qNMaPnkBCo', '...  0.000000   \n",
       "9999  {'JIMIN', 'hot', 'SolecitoPjm', '', 'song', 'I...  0.483333   \n",
       "\n",
       "      subjectivity type_polarity  \n",
       "0         0.725000      Positive  \n",
       "1         0.725000      Positive  \n",
       "2         0.600000      Positive  \n",
       "3         0.750000      Positive  \n",
       "4         0.725000      Positive  \n",
       "...            ...           ...  \n",
       "9995      0.000000       Neutral  \n",
       "9996      0.000000       Neutral  \n",
       "9997      0.850000      Positive  \n",
       "9998      0.000000       Neutral  \n",
       "9999      0.683333      Positive  \n",
       "\n",
       "[10000 rows x 6 columns]"
      ]
     },
     "execution_count": 15,
     "metadata": {},
     "output_type": "execute_result"
    }
   ],
   "source": [
    "words['type_polarity'] = tweet_polarity\n",
    "words"
   ]
  },
  {
   "cell_type": "code",
   "execution_count": 18,
   "metadata": {},
   "outputs": [
    {
     "name": "stdout",
     "output_type": "stream",
     "text": [
      "4945\n"
     ]
    }
   ],
   "source": [
    "data_positive = words[words['type_polarity']=='Positive']['polarity'].count()\n",
    "print(data_positive)"
   ]
  },
  {
   "cell_type": "code",
   "execution_count": 19,
   "metadata": {},
   "outputs": [
    {
     "name": "stdout",
     "output_type": "stream",
     "text": [
      "439\n"
     ]
    }
   ],
   "source": [
    "data_negative = words[words['type_polarity']=='Negative']['polarity'].count()\n",
    "print(data_negative)"
   ]
  },
  {
   "cell_type": "code",
   "execution_count": 16,
   "metadata": {},
   "outputs": [
    {
     "name": "stdout",
     "output_type": "stream",
     "text": [
      "4616\n"
     ]
    }
   ],
   "source": [
    "data_neutral = words[words['type_polarity']=='Neutral']['polarity'].count()\n",
    "print(data_neutral)"
   ]
  },
  {
   "cell_type": "code",
   "execution_count": 23,
   "metadata": {},
   "outputs": [
    {
     "data": {
      "image/png": "[encoded data removed]",
      "text/plain": [
       "<Figure size 432x288 with 1 Axes>"
      ]
     },
     "metadata": {},
     "output_type": "display_data"
    }
   ],
   "source": [
    "fig = plt.figure()\n",
    "ax = fig.add_axes([0,0,1,1])\n",
    "ax.axis('equal')\n",
    "MataKuliah = ['Positive', 'Negative', 'Neutral']\n",
    "Nilai = [data_positive,data_negative,data_neutral]\n",
    "ax.pie(Nilai,labels=MataKuliah,autopct='%1.2f%%')\n",
    "plt.show()"
   ]
  },
  {
   "cell_type": "code",
   "execution_count": 23,
   "metadata": {},
   "outputs": [
    {
     "data": {
      "image/png": "[encoded data removed]",
      "text/plain": [
       "<Figure size 432x288 with 1 Axes>"
      ]
     },
     "metadata": {
      "needs_background": "light"
     },
     "output_type": "display_data"
    }
   ],
   "source": [
    "x = ['Negative','Positive']\n",
    "y = [data_negative,data_positive]\n",
    "left = [1,2]\n",
    "\n",
    "plt.bar(left,y, tick_label = x,\n",
    "        width = 0.3, color = ['red', 'green'])\n",
    "\n",
    "# naming the x axis\n",
    "plt.xlabel('Type Polarity')\n",
    "# naming the y axis\n",
    "plt.ylabel('Total each Polarity')\n",
    "  \n",
    "# giving a title to my graph\n",
    "plt.title('Polarity Graph')\n",
    "  \n",
    "# function to show the plot\n",
    "plt.show()"
   ]
  },
  {
   "cell_type": "code",
   "execution_count": 20,
   "metadata": {},
   "outputs": [],
   "source": [
    "x=[]\n",
    "for a in range(0,len(words)):\n",
    "    x.append(a)\n",
    "words['index'] = x\n",
    "\n"
   ]
  },
  {
   "cell_type": "code",
   "execution_count": 24,
   "metadata": {},
   "outputs": [
    {
     "data": {
      "text/html": [
       "<div>\n",
       "<style scoped>\n",
       "    .dataframe tbody tr th:only-of-type {\n",
       "        vertical-align: middle;\n",
       "    }\n",
       "\n",
       "    .dataframe tbody tr th {\n",
       "        vertical-align: top;\n",
       "    }\n",
       "\n",
       "    .dataframe thead th {\n",
       "        text-align: right;\n",
       "    }\n",
       "</style>\n",
       "<table border=\"1\" class=\"dataframe\">\n",
       "  <thead>\n",
       "    <tr style=\"text-align: right;\">\n",
       "      <th></th>\n",
       "      <th>_c0</th>\n",
       "      <th>User</th>\n",
       "      <th>Tweet</th>\n",
       "      <th>polarity</th>\n",
       "      <th>subjectivity</th>\n",
       "      <th>type_polarity</th>\n",
       "    </tr>\n",
       "  </thead>\n",
       "  <tbody>\n",
       "    <tr>\n",
       "      <th>0</th>\n",
       "      <td>0</td>\n",
       "      <td>pjs814</td>\n",
       "      <td>{'2022', 'trending', '’', 'hot', 'GOOD', 'LIKE...</td>\n",
       "      <td>0.475</td>\n",
       "      <td>0.725</td>\n",
       "      <td>Positive</td>\n",
       "    </tr>\n",
       "    <tr>\n",
       "      <th>1</th>\n",
       "      <td>1</td>\n",
       "      <td>pjmmycatdog</td>\n",
       "      <td>{'OST', 'JIMIN', 'BTSJIMIN', 'hot', '', 'BTS',...</td>\n",
       "      <td>0.475</td>\n",
       "      <td>0.725</td>\n",
       "      <td>Positive</td>\n",
       "    </tr>\n",
       "    <tr>\n",
       "      <th>2</th>\n",
       "      <td>2</td>\n",
       "      <td>chejiminie5813</td>\n",
       "      <td>\"{'share', 'Jimin', 'Worldwide', 'trending', '...</td>\n",
       "      <td>0.700</td>\n",
       "      <td>0.600</td>\n",
       "      <td>Positive</td>\n",
       "    </tr>\n",
       "    <tr>\n",
       "      <th>3</th>\n",
       "      <td>3</td>\n",
       "      <td>mlcTcdAX6jOfKC0</td>\n",
       "      <td>{'trending', 'charming1023', 'favorite', 'song...</td>\n",
       "      <td>0.250</td>\n",
       "      <td>0.750</td>\n",
       "      <td>Positive</td>\n",
       "    </tr>\n",
       "    <tr>\n",
       "      <th>4</th>\n",
       "      <td>4</td>\n",
       "      <td>gortizpolly</td>\n",
       "      <td>{'trending', 'topics', 't.co/mmlsSwyAQ6', '', ...</td>\n",
       "      <td>0.075</td>\n",
       "      <td>0.725</td>\n",
       "      <td>Positive</td>\n",
       "    </tr>\n",
       "  </tbody>\n",
       "</table>\n",
       "</div>"
      ],
      "text/plain": [
       "   _c0             User                                              Tweet  \\\n",
       "0    0           pjs814  {'2022', 'trending', '’', 'hot', 'GOOD', 'LIKE...   \n",
       "1    1      pjmmycatdog  {'OST', 'JIMIN', 'BTSJIMIN', 'hot', '', 'BTS',...   \n",
       "2    2   chejiminie5813  \"{'share', 'Jimin', 'Worldwide', 'trending', '...   \n",
       "3    3  mlcTcdAX6jOfKC0  {'trending', 'charming1023', 'favorite', 'song...   \n",
       "4    4      gortizpolly  {'trending', 'topics', 't.co/mmlsSwyAQ6', '', ...   \n",
       "\n",
       "   polarity  subjectivity type_polarity  \n",
       "0     0.475         0.725      Positive  \n",
       "1     0.475         0.725      Positive  \n",
       "2     0.700         0.600      Positive  \n",
       "3     0.250         0.750      Positive  \n",
       "4     0.075         0.725      Positive  "
      ]
     },
     "execution_count": 24,
     "metadata": {},
     "output_type": "execute_result"
    }
   ],
   "source": [
    "words.head()"
   ]
  },
  {
   "cell_type": "code",
   "execution_count": 22,
   "metadata": {},
   "outputs": [
    {
     "data": {
      "image/png": "[encoded data removed]",
      "text/plain": [
       "<Figure size 432x288 with 1 Axes>"
      ]
     },
     "metadata": {
      "needs_background": "light"
     },
     "output_type": "display_data"
    }
   ],
   "source": [
    "x = words['index']\n",
    "y = words['subjectivity']\n",
    "\n",
    "plt.plot(x, y)\n",
    "\n",
    "# naming the x axis\n",
    "plt.xlabel('Type subjectivity')\n",
    "# naming the y axis\n",
    "plt.ylabel('Total each subjectivity')\n",
    "  \n",
    "# giving a title to my graph\n",
    "plt.title('subjectivity Graph')\n",
    "  \n",
    "# function to show the plot\n",
    "plt.show()"
   ]
  },
  {
   "cell_type": "code",
   "execution_count": 23,
   "metadata": {},
   "outputs": [
    {
     "data": {
      "text/plain": [
       "0.2647827061910537"
      ]
     },
     "execution_count": 23,
     "metadata": {},
     "output_type": "execute_result"
    }
   ],
   "source": [
    "# mencari rata-rata nilai subjectivity\n",
    "mean_subjectivity = words['subjectivity'].mean()\n",
    "mean_subjectivity"
   ]
  },
  {
   "cell_type": "code",
   "execution_count": 24,
   "metadata": {},
   "outputs": [],
   "source": [
    "spark.stop()"
   ]
  },
  {
   "cell_type": "code",
   "execution_count": null,
   "metadata": {},
   "outputs": [],
   "source": []
  }
 ],
 "metadata": {
  "kernelspec": {
   "display_name": "Python 3",
   "language": "python",
   "name": "python3"
  },
  "language_info": {
   "codemirror_mode": {
    "name": "ipython",
    "version": 3
   },
   "file_extension": ".py",
   "mimetype": "text/x-python",
   "name": "python",
   "nbconvert_exporter": "python",
   "pygments_lexer": "ipython3",
   "version": "3.8.7"
  }
 },
 "nbformat": 4,
 "nbformat_minor": 4
}
